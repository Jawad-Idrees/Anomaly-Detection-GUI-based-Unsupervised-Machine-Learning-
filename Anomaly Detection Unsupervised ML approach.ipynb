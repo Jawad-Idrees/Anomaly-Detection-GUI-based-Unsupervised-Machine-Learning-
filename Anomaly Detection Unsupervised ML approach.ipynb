{
 "cells": [
  {
   "cell_type": "code",
   "execution_count": 1,
   "id": "150a40ac",
   "metadata": {},
   "outputs": [],
   "source": [
    "import matplotlib.pyplot as plt"
   ]
  },
  {
   "cell_type": "code",
   "execution_count": 2,
   "id": "795c652b",
   "metadata": {},
   "outputs": [],
   "source": [
    "import numpy as np\n"
   ]
  },
  {
   "cell_type": "code",
   "execution_count": 3,
   "id": "62fc1630",
   "metadata": {},
   "outputs": [],
   "source": [
    "import pandas as pd\n",
    "import winsound  # for beep sound when Anomaly is detected\n",
    "import pyttsx3   # to produce the sound \"Anomaly detected\"\n",
    "from scipy.stats import norm"
   ]
  },
  {
   "cell_type": "code",
   "execution_count": 4,
   "id": "63cace12",
   "metadata": {},
   "outputs": [],
   "source": [
    "df= pd.read_csv(r\"Redwine_data.csv\")"
   ]
  },
  {
   "cell_type": "code",
   "execution_count": 5,
   "id": "31d451ba",
   "metadata": {
    "scrolled": true
   },
   "outputs": [
    {
     "data": {
      "text/html": [
       "<div>\n",
       "<style scoped>\n",
       "    .dataframe tbody tr th:only-of-type {\n",
       "        vertical-align: middle;\n",
       "    }\n",
       "\n",
       "    .dataframe tbody tr th {\n",
       "        vertical-align: top;\n",
       "    }\n",
       "\n",
       "    .dataframe thead th {\n",
       "        text-align: right;\n",
       "    }\n",
       "</style>\n",
       "<table border=\"1\" class=\"dataframe\">\n",
       "  <thead>\n",
       "    <tr style=\"text-align: right;\">\n",
       "      <th></th>\n",
       "      <th>fixed acidity</th>\n",
       "      <th>volatile acidity</th>\n",
       "      <th>citric acid</th>\n",
       "      <th>residual sugar</th>\n",
       "      <th>chlorides</th>\n",
       "      <th>free sulfur dioxide</th>\n",
       "      <th>total sulfur dioxide</th>\n",
       "      <th>density</th>\n",
       "      <th>pH</th>\n",
       "      <th>sulphates</th>\n",
       "      <th>alcohol</th>\n",
       "      <th>quality</th>\n",
       "    </tr>\n",
       "  </thead>\n",
       "  <tbody>\n",
       "    <tr>\n",
       "      <th>0</th>\n",
       "      <td>7.4</td>\n",
       "      <td>0.700</td>\n",
       "      <td>0.00</td>\n",
       "      <td>1.9</td>\n",
       "      <td>0.076</td>\n",
       "      <td>11</td>\n",
       "      <td>34</td>\n",
       "      <td>0.99780</td>\n",
       "      <td>3.51</td>\n",
       "      <td>0.56</td>\n",
       "      <td>9.4</td>\n",
       "      <td>5</td>\n",
       "    </tr>\n",
       "    <tr>\n",
       "      <th>1</th>\n",
       "      <td>7.8</td>\n",
       "      <td>0.880</td>\n",
       "      <td>0.00</td>\n",
       "      <td>2.6</td>\n",
       "      <td>0.098</td>\n",
       "      <td>25</td>\n",
       "      <td>67</td>\n",
       "      <td>0.99680</td>\n",
       "      <td>3.20</td>\n",
       "      <td>0.68</td>\n",
       "      <td>9.8</td>\n",
       "      <td>5</td>\n",
       "    </tr>\n",
       "    <tr>\n",
       "      <th>2</th>\n",
       "      <td>7.8</td>\n",
       "      <td>0.760</td>\n",
       "      <td>0.04</td>\n",
       "      <td>2.3</td>\n",
       "      <td>0.092</td>\n",
       "      <td>15</td>\n",
       "      <td>54</td>\n",
       "      <td>0.99700</td>\n",
       "      <td>3.26</td>\n",
       "      <td>0.65</td>\n",
       "      <td>9.8</td>\n",
       "      <td>5</td>\n",
       "    </tr>\n",
       "    <tr>\n",
       "      <th>3</th>\n",
       "      <td>11.2</td>\n",
       "      <td>0.280</td>\n",
       "      <td>0.56</td>\n",
       "      <td>1.9</td>\n",
       "      <td>0.075</td>\n",
       "      <td>17</td>\n",
       "      <td>60</td>\n",
       "      <td>0.99800</td>\n",
       "      <td>3.16</td>\n",
       "      <td>0.58</td>\n",
       "      <td>9.8</td>\n",
       "      <td>6</td>\n",
       "    </tr>\n",
       "    <tr>\n",
       "      <th>4</th>\n",
       "      <td>7.4</td>\n",
       "      <td>0.700</td>\n",
       "      <td>0.00</td>\n",
       "      <td>1.9</td>\n",
       "      <td>0.076</td>\n",
       "      <td>11</td>\n",
       "      <td>34</td>\n",
       "      <td>0.99780</td>\n",
       "      <td>3.51</td>\n",
       "      <td>0.56</td>\n",
       "      <td>9.4</td>\n",
       "      <td>5</td>\n",
       "    </tr>\n",
       "    <tr>\n",
       "      <th>...</th>\n",
       "      <td>...</td>\n",
       "      <td>...</td>\n",
       "      <td>...</td>\n",
       "      <td>...</td>\n",
       "      <td>...</td>\n",
       "      <td>...</td>\n",
       "      <td>...</td>\n",
       "      <td>...</td>\n",
       "      <td>...</td>\n",
       "      <td>...</td>\n",
       "      <td>...</td>\n",
       "      <td>...</td>\n",
       "    </tr>\n",
       "    <tr>\n",
       "      <th>1594</th>\n",
       "      <td>6.2</td>\n",
       "      <td>0.600</td>\n",
       "      <td>0.08</td>\n",
       "      <td>2.0</td>\n",
       "      <td>0.090</td>\n",
       "      <td>32</td>\n",
       "      <td>44</td>\n",
       "      <td>0.99490</td>\n",
       "      <td>3.45</td>\n",
       "      <td>0.58</td>\n",
       "      <td>10.5</td>\n",
       "      <td>5</td>\n",
       "    </tr>\n",
       "    <tr>\n",
       "      <th>1595</th>\n",
       "      <td>5.9</td>\n",
       "      <td>0.550</td>\n",
       "      <td>0.10</td>\n",
       "      <td>2.2</td>\n",
       "      <td>0.062</td>\n",
       "      <td>39</td>\n",
       "      <td>51</td>\n",
       "      <td>0.99512</td>\n",
       "      <td>3.52</td>\n",
       "      <td>0.76</td>\n",
       "      <td>11.2</td>\n",
       "      <td>6</td>\n",
       "    </tr>\n",
       "    <tr>\n",
       "      <th>1596</th>\n",
       "      <td>6.3</td>\n",
       "      <td>0.510</td>\n",
       "      <td>0.13</td>\n",
       "      <td>2.3</td>\n",
       "      <td>0.076</td>\n",
       "      <td>29</td>\n",
       "      <td>40</td>\n",
       "      <td>0.99574</td>\n",
       "      <td>3.42</td>\n",
       "      <td>0.75</td>\n",
       "      <td>11.0</td>\n",
       "      <td>6</td>\n",
       "    </tr>\n",
       "    <tr>\n",
       "      <th>1597</th>\n",
       "      <td>5.9</td>\n",
       "      <td>0.645</td>\n",
       "      <td>0.12</td>\n",
       "      <td>2.0</td>\n",
       "      <td>0.075</td>\n",
       "      <td>32</td>\n",
       "      <td>44</td>\n",
       "      <td>0.99547</td>\n",
       "      <td>3.57</td>\n",
       "      <td>0.71</td>\n",
       "      <td>10.2</td>\n",
       "      <td>5</td>\n",
       "    </tr>\n",
       "    <tr>\n",
       "      <th>1598</th>\n",
       "      <td>6.0</td>\n",
       "      <td>0.310</td>\n",
       "      <td>0.47</td>\n",
       "      <td>3.6</td>\n",
       "      <td>0.067</td>\n",
       "      <td>18</td>\n",
       "      <td>42</td>\n",
       "      <td>0.99549</td>\n",
       "      <td>3.39</td>\n",
       "      <td>0.66</td>\n",
       "      <td>11.0</td>\n",
       "      <td>6</td>\n",
       "    </tr>\n",
       "  </tbody>\n",
       "</table>\n",
       "<p>1599 rows × 12 columns</p>\n",
       "</div>"
      ],
      "text/plain": [
       "      fixed acidity  volatile acidity  citric acid  residual sugar  chlorides  \\\n",
       "0               7.4             0.700         0.00             1.9      0.076   \n",
       "1               7.8             0.880         0.00             2.6      0.098   \n",
       "2               7.8             0.760         0.04             2.3      0.092   \n",
       "3              11.2             0.280         0.56             1.9      0.075   \n",
       "4               7.4             0.700         0.00             1.9      0.076   \n",
       "...             ...               ...          ...             ...        ...   \n",
       "1594            6.2             0.600         0.08             2.0      0.090   \n",
       "1595            5.9             0.550         0.10             2.2      0.062   \n",
       "1596            6.3             0.510         0.13             2.3      0.076   \n",
       "1597            5.9             0.645         0.12             2.0      0.075   \n",
       "1598            6.0             0.310         0.47             3.6      0.067   \n",
       "\n",
       "      free sulfur dioxide  total sulfur dioxide  density    pH  sulphates  \\\n",
       "0                      11                    34  0.99780  3.51       0.56   \n",
       "1                      25                    67  0.99680  3.20       0.68   \n",
       "2                      15                    54  0.99700  3.26       0.65   \n",
       "3                      17                    60  0.99800  3.16       0.58   \n",
       "4                      11                    34  0.99780  3.51       0.56   \n",
       "...                   ...                   ...      ...   ...        ...   \n",
       "1594                   32                    44  0.99490  3.45       0.58   \n",
       "1595                   39                    51  0.99512  3.52       0.76   \n",
       "1596                   29                    40  0.99574  3.42       0.75   \n",
       "1597                   32                    44  0.99547  3.57       0.71   \n",
       "1598                   18                    42  0.99549  3.39       0.66   \n",
       "\n",
       "      alcohol  quality  \n",
       "0         9.4        5  \n",
       "1         9.8        5  \n",
       "2         9.8        5  \n",
       "3         9.8        6  \n",
       "4         9.4        5  \n",
       "...       ...      ...  \n",
       "1594     10.5        5  \n",
       "1595     11.2        6  \n",
       "1596     11.0        6  \n",
       "1597     10.2        5  \n",
       "1598     11.0        6  \n",
       "\n",
       "[1599 rows x 12 columns]"
      ]
     },
     "execution_count": 5,
     "metadata": {},
     "output_type": "execute_result"
    }
   ],
   "source": [
    "df "
   ]
  },
  {
   "cell_type": "code",
   "execution_count": 6,
   "id": "869ffd4b",
   "metadata": {},
   "outputs": [
    {
     "data": {
      "text/plain": [
       "Index(['fixed acidity', 'volatile acidity', 'citric acid', 'residual sugar',\n",
       "       'chlorides', 'free sulfur dioxide', 'total sulfur dioxide', 'density',\n",
       "       'pH', 'sulphates', 'alcohol', 'quality'],\n",
       "      dtype='object')"
      ]
     },
     "execution_count": 6,
     "metadata": {},
     "output_type": "execute_result"
    }
   ],
   "source": [
    "df.columns"
   ]
  },
  {
   "cell_type": "code",
   "execution_count": 7,
   "id": "7884c4ce",
   "metadata": {},
   "outputs": [],
   "source": [
    "anomaly_features= df[['fixed acidity', 'sulphates', 'alcohol']]"
   ]
  },
  {
   "cell_type": "code",
   "execution_count": 8,
   "id": "d69507f3",
   "metadata": {},
   "outputs": [
    {
     "data": {
      "text/html": [
       "<div>\n",
       "<style scoped>\n",
       "    .dataframe tbody tr th:only-of-type {\n",
       "        vertical-align: middle;\n",
       "    }\n",
       "\n",
       "    .dataframe tbody tr th {\n",
       "        vertical-align: top;\n",
       "    }\n",
       "\n",
       "    .dataframe thead th {\n",
       "        text-align: right;\n",
       "    }\n",
       "</style>\n",
       "<table border=\"1\" class=\"dataframe\">\n",
       "  <thead>\n",
       "    <tr style=\"text-align: right;\">\n",
       "      <th></th>\n",
       "      <th>fixed acidity</th>\n",
       "      <th>sulphates</th>\n",
       "      <th>alcohol</th>\n",
       "    </tr>\n",
       "  </thead>\n",
       "  <tbody>\n",
       "    <tr>\n",
       "      <th>0</th>\n",
       "      <td>7.4</td>\n",
       "      <td>0.56</td>\n",
       "      <td>9.4</td>\n",
       "    </tr>\n",
       "    <tr>\n",
       "      <th>1</th>\n",
       "      <td>7.8</td>\n",
       "      <td>0.68</td>\n",
       "      <td>9.8</td>\n",
       "    </tr>\n",
       "    <tr>\n",
       "      <th>2</th>\n",
       "      <td>7.8</td>\n",
       "      <td>0.65</td>\n",
       "      <td>9.8</td>\n",
       "    </tr>\n",
       "    <tr>\n",
       "      <th>3</th>\n",
       "      <td>11.2</td>\n",
       "      <td>0.58</td>\n",
       "      <td>9.8</td>\n",
       "    </tr>\n",
       "    <tr>\n",
       "      <th>4</th>\n",
       "      <td>7.4</td>\n",
       "      <td>0.56</td>\n",
       "      <td>9.4</td>\n",
       "    </tr>\n",
       "    <tr>\n",
       "      <th>...</th>\n",
       "      <td>...</td>\n",
       "      <td>...</td>\n",
       "      <td>...</td>\n",
       "    </tr>\n",
       "    <tr>\n",
       "      <th>1594</th>\n",
       "      <td>6.2</td>\n",
       "      <td>0.58</td>\n",
       "      <td>10.5</td>\n",
       "    </tr>\n",
       "    <tr>\n",
       "      <th>1595</th>\n",
       "      <td>5.9</td>\n",
       "      <td>0.76</td>\n",
       "      <td>11.2</td>\n",
       "    </tr>\n",
       "    <tr>\n",
       "      <th>1596</th>\n",
       "      <td>6.3</td>\n",
       "      <td>0.75</td>\n",
       "      <td>11.0</td>\n",
       "    </tr>\n",
       "    <tr>\n",
       "      <th>1597</th>\n",
       "      <td>5.9</td>\n",
       "      <td>0.71</td>\n",
       "      <td>10.2</td>\n",
       "    </tr>\n",
       "    <tr>\n",
       "      <th>1598</th>\n",
       "      <td>6.0</td>\n",
       "      <td>0.66</td>\n",
       "      <td>11.0</td>\n",
       "    </tr>\n",
       "  </tbody>\n",
       "</table>\n",
       "<p>1599 rows × 3 columns</p>\n",
       "</div>"
      ],
      "text/plain": [
       "      fixed acidity  sulphates  alcohol\n",
       "0               7.4       0.56      9.4\n",
       "1               7.8       0.68      9.8\n",
       "2               7.8       0.65      9.8\n",
       "3              11.2       0.58      9.8\n",
       "4               7.4       0.56      9.4\n",
       "...             ...        ...      ...\n",
       "1594            6.2       0.58     10.5\n",
       "1595            5.9       0.76     11.2\n",
       "1596            6.3       0.75     11.0\n",
       "1597            5.9       0.71     10.2\n",
       "1598            6.0       0.66     11.0\n",
       "\n",
       "[1599 rows x 3 columns]"
      ]
     },
     "execution_count": 8,
     "metadata": {},
     "output_type": "execute_result"
    }
   ],
   "source": [
    "anomaly_features"
   ]
  },
  {
   "cell_type": "markdown",
   "id": "812b1d88",
   "metadata": {},
   "source": [
    "## Printing Information"
   ]
  },
  {
   "cell_type": "code",
   "execution_count": 9,
   "id": "824a38da",
   "metadata": {},
   "outputs": [
    {
     "name": "stdout",
     "output_type": "stream",
     "text": [
      "ACIDITY   LIMITS:    MIN = 4.6      MAX = 15.9       MEAN: 8.31963727329581\n",
      "SULPHATES LIMITS:    MIN = 0.33     MAX = 2.0        MEAN: 0.6581488430268917\n",
      "ALCOHOL   LIMITS:    MIN = 8.4      MAX = 14.9       MEAN: 10.422983114446529\n"
     ]
    }
   ],
   "source": [
    "print(f\"ACIDITY   LIMITS:    MIN = {np.min(df['fixed acidity'])}      MAX = {np.max(df['fixed acidity'])}       MEAN: {np.mean(df['fixed acidity'])}\")\n",
    "print(f\"SULPHATES LIMITS:    MIN = {np.min(df['sulphates'])}     MAX = {np.max(df['sulphates'])}        MEAN: {np.mean(df['sulphates'])}\")\n",
    "print(f\"ALCOHOL   LIMITS:    MIN = {np.min(df['alcohol'])}      MAX = {np.max(df['alcohol'])}       MEAN: {np.mean(df['alcohol'])}\")"
   ]
  },
  {
   "cell_type": "markdown",
   "id": "792d490a",
   "metadata": {},
   "source": [
    "# Density-based Anomaly Detection\n"
   ]
  },
  {
   "cell_type": "markdown",
   "id": "a3cdcc8a",
   "metadata": {},
   "source": [
    "We are using density based Anomaly Detection approach. This approach is quite reliable and \n",
    "ensures that we get some parameter, finally, for detection of future anomalies."
   ]
  },
  {
   "cell_type": "code",
   "execution_count": 10,
   "id": "04d62a91",
   "metadata": {},
   "outputs": [],
   "source": [
    "# To manually compute the pdf \n",
    "# This function has not been used anywhere. It has been put just as a reference\n",
    "def comp_norm_probs_by_formula(column, mean, sd):\n",
    "    return (1/(np.sqrt(2*3.141592653589793) *sd))*(np.exp(-(0.5)*((column-mean)/sd)**2))\n",
    "                                                   "
   ]
  },
  {
   "cell_type": "code",
   "execution_count": 11,
   "id": "49031ebc",
   "metadata": {},
   "outputs": [],
   "source": [
    "# This function is actually being used for density calculation\n",
    "def compute_normal_probabilities(column, mean, sd):\n",
    "   \n",
    "    probabilities =  norm.pdf(column, loc=mean, scale=sd)\n",
    "    return probabilities\n",
    "\n",
    "\n",
    "\n"
   ]
  },
  {
   "cell_type": "markdown",
   "id": "ab8199de",
   "metadata": {},
   "source": [
    "."
   ]
  },
  {
   "cell_type": "markdown",
   "id": "e2541a88",
   "metadata": {},
   "source": [
    "For density-based approach, it is recommended to have normalized Anomaly features"
   ]
  },
  {
   "cell_type": "code",
   "execution_count": 12,
   "id": "64c803fe",
   "metadata": {},
   "outputs": [],
   "source": [
    "def normalize(data):\n",
    "    # This formula of normalization is called min-max normalization\n",
    "    return (data - np.min(data)) / (np.max(data) - np.min(data))\n",
    "    "
   ]
  },
  {
   "cell_type": "code",
   "execution_count": 13,
   "id": "560ad0f6",
   "metadata": {},
   "outputs": [],
   "source": [
    "# Normalizing the 3 features\n",
    "fixed_acidity= normalize(df['fixed acidity'])\n",
    "Sulphates= normalize(df['sulphates'])\n",
    "Alcohol= normalize(df['alcohol'])\n"
   ]
  },
  {
   "cell_type": "code",
   "execution_count": 14,
   "id": "52e3759d",
   "metadata": {},
   "outputs": [],
   "source": [
    "# Means of the 3 features\n",
    "mean_acid= np.mean(fixed_acidity)\n",
    "mean_sulphate= np.mean(Sulphates)\n",
    "mean_alcohol= np.mean(Alcohol)\n"
   ]
  },
  {
   "cell_type": "code",
   "execution_count": 15,
   "id": "a25841b2",
   "metadata": {},
   "outputs": [],
   "source": [
    "# Standard Deviation of 3 features\n",
    "sd_acid= np.std(fixed_acidity)\n",
    "sd_sulphate= np.std(Sulphates)\n",
    "sd_alcohol=np.std(Alcohol)"
   ]
  },
  {
   "cell_type": "markdown",
   "id": "fb0bb4e9",
   "metadata": {},
   "source": [
    "."
   ]
  },
  {
   "cell_type": "markdown",
   "id": "4ff517f9",
   "metadata": {},
   "source": [
    "Finding the probabilities for individual features. These probabilities have to be combined finally to\n",
    "get a single representative probability. This representative probability is compared with the threshold value to decide whether or not the data is anomalous."
   ]
  },
  {
   "cell_type": "code",
   "execution_count": 16,
   "id": "edcb9c34",
   "metadata": {},
   "outputs": [],
   "source": [
    "prob_acidity  = compute_normal_probabilities  (fixed_acidity, mean_acid,     sd_acid)\n",
    "prob_sulphate = compute_normal_probabilities  (Sulphates,     mean_sulphate, sd_sulphate)\n",
    "prob_alcohol  = compute_normal_probabilities  (Alcohol,       mean_alcohol,  sd_alcohol)\n",
    "\n"
   ]
  },
  {
   "cell_type": "markdown",
   "id": "b037181d",
   "metadata": {},
   "source": [
    "#### Don't get confused with the probability values"
   ]
  },
  {
   "cell_type": "markdown",
   "id": "f1a8ec9d",
   "metadata": {},
   "source": [
    "Note that you will often see probability values greater than 1. Don't get confused because the \n",
    "probabilities here are not in there actual statistical sense. They actually represent density of a data point in the normal distribution and there range is from 0 to positive infinity. The higher the density(2,3,6,10 etc.) the more likely the value is to occur. "
   ]
  },
  {
   "cell_type": "code",
   "execution_count": 17,
   "id": "8b8a36f2",
   "metadata": {},
   "outputs": [],
   "source": [
    "combined_probabilities= prob_acidity*prob_sulphate*prob_alcohol"
   ]
  },
  {
   "cell_type": "markdown",
   "id": "9fa6b65b",
   "metadata": {},
   "source": [
    "\n",
    "## Now for Epsilon\n",
    "\n"
   ]
  },
  {
   "cell_type": "code",
   "execution_count": 18,
   "id": "3b1419e4",
   "metadata": {},
   "outputs": [],
   "source": [
    " Expected_Anomaly_rate= 5 # which means 5% of our products are expected to be anomalous"
   ]
  },
  {
   "cell_type": "markdown",
   "id": "486ba3e7",
   "metadata": {},
   "source": [
    "We will use 5th percentile to compute Epsilon. As Expected_Anomaly_rate specifies 5% of products could be anomalous.\n"
   ]
  },
  {
   "cell_type": "markdown",
   "id": "4c4f4341",
   "metadata": {},
   "source": [
    "This tells us that we need to compute 5th percentile and set that value as our Epsilon value\n"
   ]
  },
  {
   "cell_type": "code",
   "execution_count": 19,
   "id": "aa41a760",
   "metadata": {},
   "outputs": [
    {
     "name": "stdout",
     "output_type": "stream",
     "text": [
      "Epsilon:  0.2682638338445016\n"
     ]
    }
   ],
   "source": [
    "Epsilon= np.percentile(combined_probabilities, Expected_Anomaly_rate)\n",
    "print(\"Epsilon: \", Epsilon)"
   ]
  },
  {
   "cell_type": "code",
   "execution_count": 26,
   "id": "4d8b59cb",
   "metadata": {},
   "outputs": [
    {
     "name": "stdout",
     "output_type": "stream",
     "text": [
      "Number of Anomalies in the given data:     80\n",
      "Fine products:  1519\n"
     ]
    }
   ],
   "source": [
    "Trues= combined_probabilities<Epsilon\n",
    "\n",
    "print(\"Number of Anomalies in the given data:    \",np.sum(Trues))  \n",
    "print(\"Fine products: \", len(Trues)-np.sum(Trues))"
   ]
  },
  {
   "cell_type": "markdown",
   "id": "99f9cba4",
   "metadata": {},
   "source": [
    "## Now Creating the Detection System"
   ]
  },
  {
   "cell_type": "code",
   "execution_count": 21,
   "id": "5069e045",
   "metadata": {},
   "outputs": [],
   "source": [
    "import tkinter as tk\n",
    "window = tk.Tk() # Creating a global object of window to enhance its accessibility\n",
    "global window\n"
   ]
  },
  {
   "cell_type": "code",
   "execution_count": 27,
   "id": "762d9ea0",
   "metadata": {},
   "outputs": [],
   "source": [
    "\"\"\"This function is take values from data fields as input, convert them to float and \n",
    "perform the necessary steps to compute the representative probability for the new data\n",
    "point entered. If the data point represents an anomaly, we will have to generate the necessary\n",
    "GUI changes and the beep sound and \"Anomaly Detected Alarm\". Otherwise, we will inform the user\n",
    "that the item entered is a fine item\"\"\"\n",
    "\n",
    "def checking(acidity, sulphates, alcohol):\n",
    "    acidity_new=    float(acidity)\n",
    "    sulphates_new=  float(sulphates)\n",
    "    alcohol_new=    float(alcohol)\n",
    "\n",
    "    \n",
    "    #  Normalizing the new input\n",
    "\n",
    "    norm_acid_new= (acidity_new-np.min(df['fixed acidity']))/ (np.max(df['fixed acidity'])-np.min(df['fixed acidity']))\n",
    "    norm_sulphate_new= (sulphates_new-np.min(df['sulphates']))/ (np.max(df['sulphates'])-np.min(df['sulphates']))\n",
    "    norm_alcohol_new= (alcohol_new-np.min(df['alcohol']))/ (np.max(df['alcohol'])-np.min(df['alcohol']))\n",
    "\n",
    "    \n",
    "    new_prob1= compute_normal_probabilities(norm_acid_new, mean_acid, sd_acid)              # new acid probability\n",
    "    new_prob2= compute_normal_probabilities(norm_sulphate_new, mean_sulphate, sd_sulphate)   # new sulphate probability\n",
    "    new_prob3= compute_normal_probabilities(norm_alcohol_new, mean_alcohol, sd_alcohol)      # new alcohol probability\n",
    "    new_probability= new_prob1* new_prob2 * new_prob3           #new combined probability  \n",
    "\n",
    "\n",
    "\n",
    "\n",
    "    engine= pyttsx3.init()\n",
    "    voices = engine.getProperty('voices')\n",
    "    engine.setProperty('voice', voices[1].id)  # to specify female voice\n",
    "    if(new_probability< Epsilon):\n",
    "        \n",
    "        #Creating Label\n",
    "        label_anomalous = tk.Label(window, text=\"Anomaly Detected\", bg=\"red\")     \n",
    "        label_anomalous.grid(row=280, column=4, padx=10, pady=10)\n",
    "        \n",
    "        \n",
    "        winsound.Beep(1000, 2000) # to generate beep sound, 1000 Hz frequency for 2000 milli seconds\n",
    "\n",
    "\n",
    "        \n",
    "\n",
    "\n",
    "        for i in range(3):\n",
    "            engine.say(\"Anomaly Detected\")          # for repeating the warning 3 times\n",
    "            engine.runAndWait()\n",
    "        \n",
    "        \n",
    "    else: \n",
    "       \n",
    "       \n",
    "        engine.say(\"Fine Item\")\n",
    "        label_fine = tk.Label(window, text=\"Fine Item\", bg=\"green\")     \n",
    "        label_fine.grid(row=280, column=4, padx=10, pady=10)\n",
    "        engine.runAndWait()\n",
    "   "
   ]
  },
  {
   "cell_type": "markdown",
   "id": "25aa4490",
   "metadata": {},
   "source": [
    "### Creating GUI"
   ]
  },
  {
   "cell_type": "code",
   "execution_count": 23,
   "id": "5995a539",
   "metadata": {},
   "outputs": [],
   "source": [
    "import tkinter as tk\n",
    " \n",
    "    \n",
    "    \n",
    "\"\"\"This portion is mainly concerned with GUI settings for the system.\"\"\"\n",
    "\n",
    "\n",
    "\n",
    "screen_width = window.winfo_screenwidth()\n",
    "screen_height = window.winfo_screenheight()\n",
    "# Calculate the x and y coordinates to center the window\n",
    "x_coordinate = (screen_width - 300) // 2  #\n",
    "y_coordinate = (screen_height - 300) // 2\n",
    "window.geometry(f\"300x300+{x_coordinate}+{y_coordinate}\")\n",
    "\n",
    "window.title(\"Anomaly Detection System\")\n",
    "\n",
    "\n",
    "window.configure(bg=\"blue\")\n",
    "\n",
    "# Create input labels and corresponding entry fields\n",
    "label_acidity = tk.Label(window, text=\"Acidity\", bg=\"silver\")\n",
    "entry_acidity = tk.Entry(window)\n",
    "\n",
    "label_sulphates = tk.Label(window, text=\"Sulphates\", bg=\"silver\") \n",
    "entry_sulphates = tk.Entry(window)\n",
    "\n",
    "label_alcohol = tk.Label(window, text=\"Alcohol\", bg=\"silver\")\n",
    "entry_alcohol = tk.Entry(window)\n",
    "\n",
    "\n",
    "# Create a submit button. Note that lambda is being used to enalbe passing of parameters by making a small function in the parameters.\n",
    "submit_button = tk.Button(window, text=\"Submit\", command= lambda: checking(entry_acidity.get(), entry_sulphates.get(), entry_alcohol.get()))\n",
    "\n",
    "\n",
    "# Arrange the labels, entry fields, and button using grid layout\n",
    "label_acidity.grid(row=200, column=4, padx=10, pady=10)\n",
    "\n",
    "entry_acidity.grid(row=200, column=5, padx=10, pady=10)\n",
    "entry_acidity.insert(0, \"0.0\")\n",
    "\n",
    "label_sulphates.grid(row=225, column=4, padx=10, pady=10)\n",
    "entry_sulphates.grid(row=225, column= 5, padx=10, pady=10)\n",
    "entry_sulphates.insert(0, \"0.0\")\n",
    "\n",
    "label_alcohol.grid(row=250, column=4, padx=10, pady=10)\n",
    "entry_alcohol.grid(row=250, column=5, padx=10, pady=10)\n",
    "entry_alcohol.insert(0, \"0.0\")\n",
    "\n",
    "\n",
    "submit_button.grid(row=260, column=4, columnspan=2, pady=10)\n",
    "\n",
    "window.mainloop()"
   ]
  },
  {
   "cell_type": "code",
   "execution_count": null,
   "id": "a58eadd3",
   "metadata": {},
   "outputs": [],
   "source": []
  }
 ],
 "metadata": {
  "kernelspec": {
   "display_name": "Python 3 (ipykernel)",
   "language": "python",
   "name": "python3"
  },
  "language_info": {
   "codemirror_mode": {
    "name": "ipython",
    "version": 3
   },
   "file_extension": ".py",
   "mimetype": "text/x-python",
   "name": "python",
   "nbconvert_exporter": "python",
   "pygments_lexer": "ipython3",
   "version": "3.11.5"
  }
 },
 "nbformat": 4,
 "nbformat_minor": 5
}
